{
 "cells": [
  {
   "cell_type": "markdown",
   "id": "d18990cd-307a-49d1-a5c2-e229577b29df",
   "metadata": {},
   "source": [
    "# Data Science Tools and Ecosystem"
   ]
  },
  {
   "cell_type": "markdown",
   "id": "a56628f1-c67e-45db-bf08-5465d0418472",
   "metadata": {},
   "source": [
    "## In this notebook, Data Science Tools and Ecosystem are summarized.\n"
   ]
  },
  {
   "cell_type": "markdown",
   "id": "eb037110-3439-4ef7-a685-17824eb781c4",
   "metadata": {},
   "source": [
    "### Some of the popular languages that Data Scientists use are:"
   ]
  },
  {
   "cell_type": "markdown",
   "id": "dd2132c1-a0d3-4e10-bbb7-6446c34c855a",
   "metadata": {},
   "source": [
    "1. Python\n",
    "2. R\n",
    "3. SQL"
   ]
  },
  {
   "cell_type": "markdown",
   "id": "16211fd5-de5b-4ccf-bfb1-2d3cceaeca69",
   "metadata": {},
   "source": [
    "| Data Science Tools |\n",
    "|:------------------:|\n",
    "|Jupyter             |\n",
    "|SAS                 |\n",
    "|matlab              |"
   ]
  },
  {
   "cell_type": "markdown",
   "id": "7be6d5b0-b4cc-40ed-9fd3-e960347ba155",
   "metadata": {},
   "source": [
    "### Below are a few examples of evaluating arithmetic expressions in Python."
   ]
  },
  {
   "cell_type": "markdown",
   "id": "5cc40dd6-8fcb-4b61-8758-50651a818a6c",
   "metadata": {},
   "source": [
    " This a simple arithmetic expression to mutiply then add integers: "
   ]
  },
  {
   "cell_type": "code",
   "execution_count": 2,
   "id": "ba7caed4-c19b-4c12-bdd6-3fb23d6f975a",
   "metadata": {
    "tags": []
   },
   "outputs": [
    {
     "data": {
      "text/plain": [
       "17"
      ]
     },
     "execution_count": 2,
     "metadata": {},
     "output_type": "execute_result"
    }
   ],
   "source": [
    "(3*4)+5"
   ]
  },
  {
   "cell_type": "markdown",
   "id": "d155d8dc-278d-465f-96f5-2972af456927",
   "metadata": {},
   "source": [
    "This will convert 200 minutes to hours by diving by 60"
   ]
  },
  {
   "cell_type": "code",
   "execution_count": 4,
   "id": "bf97bba4-9a76-4ff6-bfaa-4f35cca1f900",
   "metadata": {
    "tags": []
   },
   "outputs": [
    {
     "data": {
      "text/plain": [
       "3.3333333333333335"
      ]
     },
     "execution_count": 4,
     "metadata": {},
     "output_type": "execute_result"
    }
   ],
   "source": [
    "200/60"
   ]
  },
  {
   "cell_type": "markdown",
   "id": "52f3baee-7af2-4992-9127-1bff69f84fc5",
   "metadata": {},
   "source": [
    "__Objectives:__"
   ]
  },
  {
   "cell_type": "markdown",
   "id": "3ff6c549-228f-4073-9427-3afaf97c3ff7",
   "metadata": {},
   "source": [
    "* SQL\n",
    "* Python\n",
    "* R"
   ]
  },
  {
   "cell_type": "markdown",
   "id": "5e6d749a-284e-4b86-8256-7c87ce5a65a6",
   "metadata": {},
   "source": [
    "## Author\n",
    "Nishtha"
   ]
  },
  {
   "cell_type": "code",
   "execution_count": null,
   "id": "2d3439fb-bd70-4bb9-9991-f1636b5b3085",
   "metadata": {},
   "outputs": [],
   "source": []
  }
 ],
 "metadata": {
  "kernelspec": {
   "display_name": "Python",
   "language": "python",
   "name": "conda-env-python-py"
  },
  "language_info": {
   "codemirror_mode": {
    "name": "ipython",
    "version": 3
   },
   "file_extension": ".py",
   "mimetype": "text/x-python",
   "name": "python",
   "nbconvert_exporter": "python",
   "pygments_lexer": "ipython3",
   "version": "3.7.12"
  }
 },
 "nbformat": 4,
 "nbformat_minor": 5
}
